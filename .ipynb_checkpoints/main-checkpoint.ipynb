{
 "cells": [
  {
   "cell_type": "code",
   "execution_count": null,
   "id": "1d1b1443-5329-4aa0-97d3-de20a85b807e",
   "metadata": {},
   "outputs": [],
   "source": [
    "# webscrape the reviews of an amazon product when given a url as input\n",
    "# Take those reviews and covnert it into a text object\n",
    "# Create a word cloud from that text object"
   ]
  },
  {
   "cell_type": "code",
   "execution_count": 1,
   "id": "0606d77d-15da-4ea3-b65e-e5e97ebd62d3",
   "metadata": {},
   "outputs": [
    {
     "name": "stdin",
     "output_type": "stream",
     "text": [
      "Enter the URL:  https://www.amazon.com/AmazonBasics-Chisel-Tip-Highlighters-Pack/dp/B01FV0FBX4?ref_=ast_sto_dp&th=1\n"
     ]
    },
    {
     "name": "stdout",
     "output_type": "stream",
     "text": [
      "{'title': 'BEST FLUORESCENT HIGHLIGHTERS', 'body': 'I had been searching for months to find the best fluorescent highlighters.. I tried all of the big name brands and hated how dull the colors were. I wanted something vibrant and truly a bright and neon color. I tried these and don’t use any other now. Truly the brightest and the best. I’ve had these for months and they still work great and as a full time grad student.. I use them religiously. Great bang for your buck and will be purchasing again!\\nRead more'}\n",
      "{'title': 'Pretty good for the price', 'body': \"The highlighters are cute and pretty useful, however, one of the pink ones was dry and didn't work. But the rest of the 11 are working as they should. They are really good for the price. Didn't want to take away a whole star, just for one dry pen! This deserves all the stars for being a cheap but good and useful product.\\nRead more\"}\n",
      "{'title': 'Kinda stiff', 'body': \"I ordered some for business use and have to say, while I'm very happy with the quantity and price, also color options, the tips are kind of too stiff for what I wanted these for.\\nRead more\"}\n",
      "{'title': 'Nice', 'body': 'Had it for a few months and they still have ink.\\nRead more'}\n",
      "{'title': 'Fast as expected 👍', 'body': 'Easy way to get supplies as fastest as possible and very convenient. And they work as they should...\\nRead more'}\n",
      "{'title': 'Nice', 'body': 'works great. Bright vivid colors.\\nRead more'}\n",
      "{'title': 'Pretty good', 'body': 'Now the orange and purple high lighter are very dark. Too dark to see through\\nRead more'}\n",
      "{'title': 'Highlighters', 'body': \"Good product for the price. and i don't have to go to the store to get them.\\nRead more\"}\n"
     ]
    },
    {
     "ename": "NameError",
     "evalue": "name 'requests' is not defined",
     "output_type": "error",
     "traceback": [
      "\u001b[1;31m---------------------------------------------------------------------------\u001b[0m",
      "\u001b[1;31mAttributeError\u001b[0m                            Traceback (most recent call last)",
      "Cell \u001b[1;32mIn[1], line 18\u001b[0m\n\u001b[0;32m     16\u001b[0m \u001b[38;5;28;01mif\u001b[39;00m x:\n\u001b[0;32m     17\u001b[0m     review \u001b[38;5;241m=\u001b[39m {\n\u001b[1;32m---> 18\u001b[0m         \u001b[38;5;124m'\u001b[39m\u001b[38;5;124mtitle\u001b[39m\u001b[38;5;124m'\u001b[39m: x\u001b[38;5;241m.\u001b[39mfind(\u001b[38;5;124m'\u001b[39m\u001b[38;5;124ma\u001b[39m\u001b[38;5;124m'\u001b[39m, {\u001b[38;5;124m'\u001b[39m\u001b[38;5;124mdata-hook\u001b[39m\u001b[38;5;124m'\u001b[39m: \u001b[38;5;124m'\u001b[39m\u001b[38;5;124mreview-title\u001b[39m\u001b[38;5;124m'\u001b[39m})\u001b[38;5;241m.\u001b[39mtext\u001b[38;5;241m.\u001b[39mstrip(),\n\u001b[0;32m     19\u001b[0m         \u001b[38;5;124m'\u001b[39m\u001b[38;5;124mbody\u001b[39m\u001b[38;5;124m'\u001b[39m: x\u001b[38;5;241m.\u001b[39mfind(\u001b[38;5;124m'\u001b[39m\u001b[38;5;124mspan\u001b[39m\u001b[38;5;124m'\u001b[39m, {\u001b[38;5;124m'\u001b[39m\u001b[38;5;124mdata-hook\u001b[39m\u001b[38;5;124m'\u001b[39m: \u001b[38;5;124m'\u001b[39m\u001b[38;5;124mreview-body\u001b[39m\u001b[38;5;124m'\u001b[39m})\u001b[38;5;241m.\u001b[39mtext\u001b[38;5;241m.\u001b[39mstrip()\n\u001b[0;32m     20\u001b[0m     }\n\u001b[0;32m     21\u001b[0m     \u001b[38;5;28mprint\u001b[39m(review)\n",
      "\u001b[1;31mAttributeError\u001b[0m: 'NoneType' object has no attribute 'text'",
      "\nDuring handling of the above exception, another exception occurred:\n",
      "\u001b[1;31mNameError\u001b[0m                                 Traceback (most recent call last)",
      "Cell \u001b[1;32mIn[1], line 29\u001b[0m\n\u001b[0;32m     22\u001b[0m             review_data\u001b[38;5;241m.\u001b[39mappend(review)\n\u001b[0;32m     24\u001b[0m     \u001b[38;5;66;03m# Optional sleep adjustment between requests\u001b[39;00m\n\u001b[0;32m     25\u001b[0m     \u001b[38;5;66;03m# await asyncio.sleep(10)  # Adjust the sleep duration as needed\u001b[39;00m\n\u001b[0;32m     26\u001b[0m \n\u001b[0;32m     27\u001b[0m      \u001b[38;5;66;03m#return review_data\u001b[39;00m\n\u001b[1;32m---> 29\u001b[0m \u001b[38;5;28;01mexcept\u001b[39;00m requests\u001b[38;5;241m.\u001b[39mexceptions\u001b[38;5;241m.\u001b[39mTimeout:\n\u001b[0;32m     30\u001b[0m     \u001b[38;5;28mprint\u001b[39m(\u001b[38;5;124m\"\u001b[39m\u001b[38;5;124mTimeout occurred. Please try again later.\u001b[39m\u001b[38;5;124m\"\u001b[39m)\n\u001b[0;32m     32\u001b[0m \u001b[38;5;28;01mexcept\u001b[39;00m requests\u001b[38;5;241m.\u001b[39mexceptions\u001b[38;5;241m.\u001b[39mRequestException \u001b[38;5;28;01mas\u001b[39;00m e:\n",
      "\u001b[1;31mNameError\u001b[0m: name 'requests' is not defined"
     ]
    }
   ],
   "source": [
    "from requests_html import AsyncHTMLSession\n",
    "from bs4 import BeautifulSoup\n",
    "import pandas as pd\n",
    "\n",
    "url = input(\"Enter the URL: \")\n",
    "session = AsyncHTMLSession()\n",
    "\n",
    "try:\n",
    "    r = await session.get(url)\n",
    "    await r.html.arender(sleep=5)\n",
    "    soup = BeautifulSoup(r.html.html, 'lxml')\n",
    "    reviews = soup.find_all(\"div\", {\"data-hook\": \"review\"})\n",
    "\n",
    "    review_data = []\n",
    "    for x in reviews:\n",
    "        if x:\n",
    "            review = {\n",
    "                'title': x.find('a', {'data-hook': 'review-title'}).text.strip(),\n",
    "                'body': x.find('span', {'data-hook': 'review-body'}).text.strip()\n",
    "            }\n",
    "            print(review)\n",
    "            review_data.append(review)\n",
    "\n",
    "    # Optional sleep adjustment between requests\n",
    "    # await asyncio.sleep(10)  # Adjust the sleep duration as needed\n",
    "\n",
    "     #return review_data\n",
    "\n",
    "# except requests.exceptions.Timeout:\n",
    "#     print(\"Timeout occurred. Please try again later.\")\n",
    "\n",
    "# except requests.exceptions.RequestException as e:\n",
    "#      print(\"An error occurred:\", str(e))\n",
    "\n",
    "print(reivew_data)"
   ]
  },
  {
   "cell_type": "code",
   "execution_count": 62,
   "id": "cae5ce6e-6637-49b0-94eb-506aa0ecaa6a",
   "metadata": {},
   "outputs": [
    {
     "data": {
      "text/html": [
       "<div>\n",
       "<style scoped>\n",
       "    .dataframe tbody tr th:only-of-type {\n",
       "        vertical-align: middle;\n",
       "    }\n",
       "\n",
       "    .dataframe tbody tr th {\n",
       "        vertical-align: top;\n",
       "    }\n",
       "\n",
       "    .dataframe thead th {\n",
       "        text-align: right;\n",
       "    }\n",
       "</style>\n",
       "<table border=\"1\" class=\"dataframe\">\n",
       "  <thead>\n",
       "    <tr style=\"text-align: right;\">\n",
       "      <th></th>\n",
       "    </tr>\n",
       "  </thead>\n",
       "  <tbody>\n",
       "  </tbody>\n",
       "</table>\n",
       "</div>"
      ],
      "text/plain": [
       "Empty DataFrame\n",
       "Columns: []\n",
       "Index: []"
      ]
     },
     "execution_count": 62,
     "metadata": {},
     "output_type": "execute_result"
    }
   ],
   "source": [
    "# Create a dataframe from the text data and clean it \n",
    "import pandas as pd\n",
    "\n",
    "text_data = pd.DataFrame(review_data)\n",
    "text_data.head(5)"
   ]
  },
  {
   "cell_type": "code",
   "execution_count": null,
   "id": "78a550ca-21d5-4ee4-90fd-a3dc2b00cf96",
   "metadata": {},
   "outputs": [],
   "source": []
  }
 ],
 "metadata": {
  "kernelspec": {
   "display_name": "Python 3 (ipykernel)",
   "language": "python",
   "name": "python3"
  },
  "language_info": {
   "codemirror_mode": {
    "name": "ipython",
    "version": 3
   },
   "file_extension": ".py",
   "mimetype": "text/x-python",
   "name": "python",
   "nbconvert_exporter": "python",
   "pygments_lexer": "ipython3",
   "version": "3.10.9"
  }
 },
 "nbformat": 4,
 "nbformat_minor": 5
}
