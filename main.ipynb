{
 "cells": [
  {
   "cell_type": "code",
   "execution_count": null,
   "id": "1d1b1443-5329-4aa0-97d3-de20a85b807e",
   "metadata": {},
   "outputs": [],
   "source": [
    "# webscrape the reviews of an amazon product when given a url as input\n",
    "# Take those reviews and covnert it into a text object\n",
    "# Create a word cloud from that text object"
   ]
  },
  {
   "cell_type": "code",
   "execution_count": 4,
   "id": "0606d77d-15da-4ea3-b65e-e5e97ebd62d3",
   "metadata": {},
   "outputs": [
    {
     "name": "stdin",
     "output_type": "stream",
     "text": [
      "Enter the URL:  https://www.amazon.com/AmazonBasics-Chisel-Tip-Highlighters-Pack/dp/B01FV0FBX4?ref_=ast_sto_dp&th=1\n"
     ]
    },
    {
     "name": "stdout",
     "output_type": "stream",
     "text": [
      "{'title': 'BEST FLUORESCENT HIGHLIGHTERS', 'body': 'I had been searching for months to find the best fluorescent highlighters.. I tried all of the big name brands and hated how dull the colors were. I wanted something vibrant and truly a bright and neon color. I tried these and don’t use any other now. Truly the brightest and the best. I’ve had these for months and they still work great and as a full time grad student.. I use them religiously. Great bang for your buck and will be purchasing again!\\nRead more'}\n",
      "{'title': 'Pretty good for the price', 'body': \"The highlighters are cute and pretty useful, however, one of the pink ones was dry and didn't work. But the rest of the 11 are working as they should. They are really good for the price. Didn't want to take away a whole star, just for one dry pen! This deserves all the stars for being a cheap but good and useful product.\\nRead more\"}\n",
      "{'title': 'Kinda stiff', 'body': \"I ordered some for business use and have to say, while I'm very happy with the quantity and price, also color options, the tips are kind of too stiff for what I wanted these for.\\nRead more\"}\n",
      "{'title': 'Nice', 'body': 'Had it for a few months and they still have ink.\\nRead more'}\n",
      "{'title': 'Fast as expected 👍', 'body': 'Easy way to get supplies as fastest as possible and very convenient. And they work as they should...\\nRead more'}\n",
      "{'title': 'Nice', 'body': 'works great. Bright vivid colors.\\nRead more'}\n",
      "{'title': 'Pretty good', 'body': 'Now the orange and purple high lighter are very dark. Too dark to see through\\nRead more'}\n",
      "{'title': 'Highlighters', 'body': \"Good product for the price. and i don't have to go to the store to get them.\\nRead more\"}\n",
      "{'title': '', 'body': 'Two reasons to buy...1. The attractive price2. The product quality and the quantity (sufficient for whole family 😂)Highlighter is neither too dark nor too light it is perfect to highlight the sentences .See the pictures for better idea\\nRead more'}\n",
      "{'title': '', 'body': 'The lighter colours like yellow, green, orange and pink are great. Blue and purple are not much use as highlighters as they are dark. The pen doesnt last too long hence it would be great if ink supplies (at least one bottle) are made available with the pens. The product looks nice and the build quality is good. The pen will last longer if kept upside down when not in use.\\nRead more'}\n",
      "{'title': '', 'body': 'Have to say, I am really pleased with this purchase, the amount you get alone is enough as the price is very reasonable for four pens of each colour and there being 6 colours making 24pens in total.I have been using these for work etc for the last couple of weeks, and found that the colours are bold and vivid and stand out. If I had one issue, it would be that the purple one makes reading what you have highlighted harder than when using the other colours.\\nRead more'}\n",
      "{'title': '', 'body': \"Ho comprato questi evidenziatori (pacco da 24pz) per me e il mio coinquilino, studenti universitari.Nelle foto ne vedete 12, perché gli altri li ho già dati a lui.Ma parliamo del prodotto: Vengono venduti in una scatola di cartone riciclato, con sopra l'adesivo Amazon Basics, all'interno troverete 24 evidenziatori di 6 colori differenti (4 per colore), rispettivamente Giallo, Arancione, Verde, Azzurro, Rosa, Viola.La punta è Piatta come quelle che si trovano nei comuni evidenziatori, anche se questi hanno la forma di una penna.Il tappo è sganciabile, e può essere posizionato sul retro mentre si usa il prodotto.Il tratto della punta ha una larghezza di 4mm, ma questo risulta leggermente discontinuo in alcuni punti.In pratica, rimangono dei micro puntini bianchi, ma comunque niente di allarmante. Potete vedere le foto per farvi un idea precisa.Gli evidenziatori sono abbastanza ergonomici e funzionali, e quindi mi sento di promuoverli a pieni voti per chi li utilizza in ambito scolastico/universitario, tenendo anche in considerazione il prezzo, poco più di 6 euro per 24 evidenziatori, contro le 3/4 euro per 6 evidenziatori di altre marche.Purtroppo non posso ancora esprimere giudizi sulla durata, per quella servirà del tempo.\\nRead more\"}\n",
      "{'title': '', 'body': 'The media could not be loaded.\\n                \\n\\n\\n\\n\\xa0Absolutely fantastic and the best value for money Highlighters you will e er buy in my opinion and you get X2 of each colour.  What a Bargain\\nRead more'}\n"
     ]
    },
    {
     "ename": "NameError",
     "evalue": "name 'reivew_data' is not defined",
     "output_type": "error",
     "traceback": [
      "\u001b[1;31m---------------------------------------------------------------------------\u001b[0m",
      "\u001b[1;31mNameError\u001b[0m                                 Traceback (most recent call last)",
      "Cell \u001b[1;32mIn[4], line 28\u001b[0m\n\u001b[0;32m     26\u001b[0m             \u001b[38;5;28mprint\u001b[39m(review)\n\u001b[0;32m     27\u001b[0m             review_data\u001b[38;5;241m.\u001b[39mappend(review)\n\u001b[1;32m---> 28\u001b[0m \u001b[38;5;28mprint\u001b[39m(\u001b[43mreivew_data\u001b[49m)\n",
      "\u001b[1;31mNameError\u001b[0m: name 'reivew_data' is not defined"
     ]
    }
   ],
   "source": [
    "from requests_html import AsyncHTMLSession\n",
    "from bs4 import BeautifulSoup\n",
    "import pandas as pd\n",
    "\n",
    "url = input(\"Enter the URL: \")\n",
    "session = AsyncHTMLSession()\n",
    "\n",
    "r = await session.get(url)\n",
    "await r.html.arender(sleep=5)\n",
    "soup = BeautifulSoup(r.html.html, 'lxml')\n",
    "reviews = soup.find_all(\"div\", {\"data-hook\": \"review\"})\n",
    "\n",
    "review_data = []\n",
    "for x in reviews:\n",
    "        if x:\n",
    "            title_element = x.find('a', {'data-hook': 'review-title'})\n",
    "            body_element = x.find('span', {'data-hook': 'review-body'})\n",
    "\n",
    "            title = title_element.text.strip() if title_element else ''\n",
    "            body = body_element.text.strip() if body_element else ''\n",
    "\n",
    "            review = {\n",
    "                'title': title,\n",
    "                'body': body\n",
    "            }\n",
    "            print(review)\n",
    "            review_data.append(review)"
   ]
  },
  {
   "cell_type": "code",
   "execution_count": 5,
   "id": "cae5ce6e-6637-49b0-94eb-506aa0ecaa6a",
   "metadata": {},
   "outputs": [
    {
     "data": {
      "text/html": [
       "<div>\n",
       "<style scoped>\n",
       "    .dataframe tbody tr th:only-of-type {\n",
       "        vertical-align: middle;\n",
       "    }\n",
       "\n",
       "    .dataframe tbody tr th {\n",
       "        vertical-align: top;\n",
       "    }\n",
       "\n",
       "    .dataframe thead th {\n",
       "        text-align: right;\n",
       "    }\n",
       "</style>\n",
       "<table border=\"1\" class=\"dataframe\">\n",
       "  <thead>\n",
       "    <tr style=\"text-align: right;\">\n",
       "      <th></th>\n",
       "      <th>title</th>\n",
       "      <th>body</th>\n",
       "    </tr>\n",
       "  </thead>\n",
       "  <tbody>\n",
       "    <tr>\n",
       "      <th>0</th>\n",
       "      <td>BEST FLUORESCENT HIGHLIGHTERS</td>\n",
       "      <td>I had been searching for months to find the be...</td>\n",
       "    </tr>\n",
       "    <tr>\n",
       "      <th>1</th>\n",
       "      <td>Pretty good for the price</td>\n",
       "      <td>The highlighters are cute and pretty useful, h...</td>\n",
       "    </tr>\n",
       "    <tr>\n",
       "      <th>2</th>\n",
       "      <td>Kinda stiff</td>\n",
       "      <td>I ordered some for business use and have to sa...</td>\n",
       "    </tr>\n",
       "    <tr>\n",
       "      <th>3</th>\n",
       "      <td>Nice</td>\n",
       "      <td>Had it for a few months and they still have in...</td>\n",
       "    </tr>\n",
       "    <tr>\n",
       "      <th>4</th>\n",
       "      <td>Fast as expected 👍</td>\n",
       "      <td>Easy way to get supplies as fastest as possibl...</td>\n",
       "    </tr>\n",
       "  </tbody>\n",
       "</table>\n",
       "</div>"
      ],
      "text/plain": [
       "                           title  \\\n",
       "0  BEST FLUORESCENT HIGHLIGHTERS   \n",
       "1      Pretty good for the price   \n",
       "2                    Kinda stiff   \n",
       "3                           Nice   \n",
       "4             Fast as expected 👍   \n",
       "\n",
       "                                                body  \n",
       "0  I had been searching for months to find the be...  \n",
       "1  The highlighters are cute and pretty useful, h...  \n",
       "2  I ordered some for business use and have to sa...  \n",
       "3  Had it for a few months and they still have in...  \n",
       "4  Easy way to get supplies as fastest as possibl...  "
      ]
     },
     "execution_count": 5,
     "metadata": {},
     "output_type": "execute_result"
    }
   ],
   "source": [
    "# Create a dataframe from the text data and clean it \n",
    "import pandas as pd\n",
    "\n",
    "text_data = pd.DataFrame(review_data)\n",
    "text_data.head(5)"
   ]
  },
  {
   "cell_type": "code",
   "execution_count": null,
   "id": "78a550ca-21d5-4ee4-90fd-a3dc2b00cf96",
   "metadata": {},
   "outputs": [],
   "source": []
  }
 ],
 "metadata": {
  "kernelspec": {
   "display_name": "Python 3 (ipykernel)",
   "language": "python",
   "name": "python3"
  },
  "language_info": {
   "codemirror_mode": {
    "name": "ipython",
    "version": 3
   },
   "file_extension": ".py",
   "mimetype": "text/x-python",
   "name": "python",
   "nbconvert_exporter": "python",
   "pygments_lexer": "ipython3",
   "version": "3.10.9"
  }
 },
 "nbformat": 4,
 "nbformat_minor": 5
}
