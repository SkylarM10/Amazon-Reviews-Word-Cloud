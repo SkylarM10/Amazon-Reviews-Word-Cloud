{
 "cells": [
  {
   "cell_type": "code",
   "execution_count": null,
   "id": "1d1b1443-5329-4aa0-97d3-de20a85b807e",
   "metadata": {},
   "outputs": [],
   "source": [
    "# webscrape the reviews of an amazon product when given a url as input\n",
    "# Take those reviews and covnert it into a text object\n",
    "# Create a word cloud from that text object"
   ]
  },
  {
   "cell_type": "code",
   "execution_count": 8,
   "id": "6ff6677d-12b7-4974-9930-c994640f16ac",
   "metadata": {},
   "outputs": [
    {
     "name": "stdin",
     "output_type": "stream",
     "text": [
      "Enter the URL:  https://www.amazon.com/LUPIT-POLE-Dance-Pole-Classic/dp/B082B98S17/ref=sr_1_8?crid=2ODBG4PH6QMFS&keywords=pole+pole+dancing&qid=1684697154&sprefix=pole+pole+dancing%2Caps%2C135&sr=8-8\n"
     ]
    }
   ],
   "source": [
    "# Take user input for the url and get the review list url\n",
    "import re\n",
    "\n",
    "#Getting user input\n",
    "url = input(\"Enter the URL: \")\n",
    "\n",
    "# Splitting the url and creating the link to the reviews list\n",
    "url_string = re.split('/dp/', url)\n",
    "product = url_string[0]\n",
    "product_id = re.split(r'\\?', url_string[1])[0] #Note that we can't do '?' since ? is an expression in re\n",
    "review_url = product + '/product-reviews/' + product_id + '/ref=cm_cr_dp_d_show_all_btm?ie=UTF8&reviewerType=all_reviews'"
   ]
  },
  {
   "cell_type": "code",
   "execution_count": 9,
   "id": "0606d77d-15da-4ea3-b65e-e5e97ebd62d3",
   "metadata": {},
   "outputs": [
    {
     "name": "stdout",
     "output_type": "stream",
     "text": [
      "{'title': \"THIS is IT!  Popcorn ceilings and X-Pole's atrocious wait times can't even stand in your way now\", 'body': \"Where to start?I've been wanting a home pole for ages, and have had my eye on an X-Pole for years.  Now that it was time to finally pull the trigger, and I jumped into my research.  While XP is still easily the most popular, I was picking up on a LOT of recent customer service issues online (customers having their card info stolen, double charges, endless processing times), all without being able to easily reach a customer support agent.  Lots of these people stated that they wished they had gone with Lupit pole.Lupit really checked out and everything I read about the quality and process seemed really great-- and then I noticed they even had an Amazon store.  I placed my order on a Monday evening, and the pole of my dreams arrived that Friday!  The shipping was a little expensive, but it's a big and HEAVY box, so I get it.  They also delivered it to my upstairs apartment door; what a pleasant surprise!  Assembly was a breeze using one of their YouTube videos-- and this is with popcorn ceilings.  I absolutely LOVE this pole.\"}\n",
      "{'title': 'Great pole, bought an extension', 'body': 'Pole is wonderful, easy to put together. I’m a beginner, 100% recommend it but I will say the only down side to this purchase was DHL could not find my address.  Never had that problem before but I ended up having to pick up the pole an hour from my home since they said they needed additional information but there was no additional information to give.I told Customer Service about the inconvenience to pay $100+ for shipping and the item didn’t come to my front door but oh well.The wildest part is I even got stopped by the police on the way (first time getting stopped for anythingggg)! So maybe if I would not have had to go pick it up that would not have happened. 😂Now the pole extension (purchased separately) was needed but you pay shipping per item which is odd since the extension was in the same box as the pole.. so in my opinion from my experience since I had to pick it up and hour away, overpriced shipping. Customer service was ok.'}\n",
      "{'title': 'Easy to install', 'body': 'I had an issue with the delivery, but the seller was super helpful in the resolution. I really appreciated the communication regarding my issues and everything worked out perfectly.Now the pole was easy to assemble, however, I recommend using a stud finder and a friend. Once we were able to locate the studs to ensure sturdiness it was a breeze. I recommend this for any beginner. The pole it self is a great thickness for grip and very sturdy. It does have some weight to it, so that’s why I recommend a friend to help for the installation especially if it’s your first time. I am content.'}\n",
      "{'title': 'Love mine', 'body': 'Arrived quickly and easy to install. I love it!'}\n",
      "{'title': 'Very disappointing', 'body': 'This was a major disappointing purchase.  My pole arrived almost 2 weeks late. The box came with zero instructions and had no trenches or extension rings.  It was supposed fit my 9 foot ceilings, and it does not.  I wouldn’t recommend wasting your money being that this is a very expensive pole that is useless.'}\n",
      "{'title': 'Solid pole! Sturdy and easy to assemble', 'body': 'Solid Pole. Easy to assemble and install'}\n",
      "{'title': 'Easy to install', 'body': 'I have had this pole for all of one day and it was easy to install and feels very sturdy. Delivery was so much faster than I expected; less than a week.'}\n",
      "{'title': 'Perfect as Expected!', 'body': \"I was sad that the Lupit website seemed sold out of 45mm chrome poles in this style, but I'm glad I checked amazon, where the price+shipping is the same, but there was more availability! it's great so far, very easy to set up by myself.\"}\n",
      "{'title': 'Great pole!', 'body': 'The media could not be loaded.\\n                \\n\\n\\n\\n\\xa0Great pole! Definitely professional quality. Instructions to assemble for my ceiling height were very clear. Love love love!'}\n",
      "{'title': 'Amazing for At Home Pole Studio', 'body': 'Sturdy, great quality, good instructions, well packaged, amazing delivery time.'}\n",
      "{'title': 'Wonderful!', 'body': 'Easy to assemble, nice spinning pole.'}\n",
      "{'title': 'Came missing parts', 'body': 'The item came missing the main part of the pole. I contacted seller hoping to get this resolved since I’m so excited to install it. It seems sturdy and well built. I can’t speak to any other quality until it’s up.@ Lupit Pole Seller, if you’re reading this, please kindly ship me part B of the pole! Thank you!!!!'}\n",
      "{'title': 'Is not stable', 'body': 'Make sure you really want the pole other wise it cost 2 much to mail it back from the USA or Puerto Rico'}\n",
      "{'title': 'Great pole, excellent finish', 'body': \"I have been dancing on this pole almost daily since it arrived, installing and uninstalling it each time. I've used it on carpet and hard floors, in several locations throughout the house. Once you get the hang of pulling the sections apart and leveling the pole, it takes about 5-10 minutes to set up - and most of that time is for leveling.Regarding the quality of the pole itself - it's excellent. It's hefty and simply looks and feels high quality. I feel totally confident in my shoulder mounts, inversions, etc on this pole. I also have a nickel allergy, so I appreciate that Lupit makes a hypoallergenic chrome pole.The finish is grippy right out of the box (once it wiped down of course) and warms up fast, unlike some of the poles at my local studio which never seem to warm up for whatever reason. It has the perfect amount of whip to it but is rock-solid stable as long as you take the time to make sure it's level it during install. I reccomend to use a spirit level for this, NOT to eyeball it.This pole is unlocked to spin with an Allen wrench, which I actually prefer to poles that unlock by pulling on a collar from the floor - because it prevents you from putting the pole on spin while doing headstands or floor moves that have you grabbing near the base of the pole. The spin on the pole is smooth and not too loose but it gets nice and fast with momentum.The top cup has left no marks or damage on the ceiling. Very important, right? :)Other details I like: the smooth transition of the mask to the bottom of the pole, it's a really nice detail that you don't see on cheaper no-name poles and might be something to consider if you're grabbing down there frequently. I've danced on cheaper poles and unintentionally unscrewed the mask while dancing - and I can tell that's just not possible with this pole.Overall no complaints at all. Arrived quickly and in good condition and is a pleasure to dance on.\"}\n",
      "{'title': 'Easy and no tools necessary!', 'body': \"I've had 3 poles now and this one, hands down,  is my favorite.  It took 10 minutes to set up,  no ceiling or floor damage, no drilling AND it arrived a little early. I was an exotic dancer for 10 years and worked all over the country- this pole is as sturdy  if not more so than poles in some clubs out there.  I do a lot of tricks and spins and it never feels unsafe. I've had others try it and it even supported 2 people totaling a little under 300 lbs. I'm very happy with it.\"}\n",
      "{'title': 'Helpful review', 'body': 'Hi! I’ve danced for 2 years. This pole is very sturdy and very well put together. I wouldn’t suggest for first time user because it is higher and thick pole. It spins faster than normal poles. But if your wanting to invest your money this is the pole. I have enjoyed it and love the attachment for vaulted ceilings.'}\n",
      "{'title': '', 'body': 'This pole is great we installed as per instructions it doesn’t budge! I am a heavy plus size pole dancer 250 pounds and it’s sturrdy recommended big time !'}\n"
     ]
    }
   ],
   "source": [
    "from requests_html import AsyncHTMLSession\n",
    "from bs4 import BeautifulSoup\n",
    "import pandas as pd\n",
    "\n",
    "session = AsyncHTMLSession()\n",
    "review_data = []\n",
    "\n",
    "while review_url:\n",
    "    r = await session.get(review_url)\n",
    "    await r.html.arender(sleep=5)\n",
    "    soup = BeautifulSoup(r.html.html, 'lxml')\n",
    "    reviews = soup.find_all(\"div\", {\"data-hook\": \"review\"})\n",
    "    for x in reviews:\n",
    "            if x:\n",
    "                title_element = x.find('a', {'data-hook': 'review-title'})\n",
    "                body_element = x.find('span', {'data-hook': 'review-body'})\n",
    "\n",
    "                title = title_element.text.strip() if title_element else ''\n",
    "                body = body_element.text.strip() if body_element else ''\n",
    "\n",
    "                review = {\n",
    "                    'title': title,\n",
    "                    'body': body\n",
    "                }\n",
    "                # print(review)\n",
    "                review_data.append(review)\n",
    "                print(review)\n",
    "    next_page_element = soup.find(class_=\"a-last\").find('a')\n",
    "\n",
    "    if next_page_element is not None:\n",
    "        next_page = 'https://www.amazon.com/' + next_page_element['href']\n",
    "    else:\n",
    "        next_page = None\n",
    "    review_url = next_page"
   ]
  },
  {
   "cell_type": "code",
   "execution_count": 10,
   "id": "cae5ce6e-6637-49b0-94eb-506aa0ecaa6a",
   "metadata": {},
   "outputs": [
    {
     "data": {
      "text/html": [
       "<div>\n",
       "<style scoped>\n",
       "    .dataframe tbody tr th:only-of-type {\n",
       "        vertical-align: middle;\n",
       "    }\n",
       "\n",
       "    .dataframe tbody tr th {\n",
       "        vertical-align: top;\n",
       "    }\n",
       "\n",
       "    .dataframe thead th {\n",
       "        text-align: right;\n",
       "    }\n",
       "</style>\n",
       "<table border=\"1\" class=\"dataframe\">\n",
       "  <thead>\n",
       "    <tr style=\"text-align: right;\">\n",
       "      <th></th>\n",
       "      <th>title</th>\n",
       "      <th>body</th>\n",
       "    </tr>\n",
       "  </thead>\n",
       "  <tbody>\n",
       "    <tr>\n",
       "      <th>0</th>\n",
       "      <td>THIS is IT!  Popcorn ceilings and X-Pole's atr...</td>\n",
       "      <td>Where to start?I've been wanting a home pole f...</td>\n",
       "    </tr>\n",
       "    <tr>\n",
       "      <th>1</th>\n",
       "      <td>Great pole, bought an extension</td>\n",
       "      <td>Pole is wonderful, easy to put together. I’m a...</td>\n",
       "    </tr>\n",
       "    <tr>\n",
       "      <th>2</th>\n",
       "      <td>Easy to install</td>\n",
       "      <td>I had an issue with the delivery, but the sell...</td>\n",
       "    </tr>\n",
       "    <tr>\n",
       "      <th>3</th>\n",
       "      <td>Love mine</td>\n",
       "      <td>Arrived quickly and easy to install. I love it!</td>\n",
       "    </tr>\n",
       "    <tr>\n",
       "      <th>4</th>\n",
       "      <td>Very disappointing</td>\n",
       "      <td>This was a major disappointing purchase.  My p...</td>\n",
       "    </tr>\n",
       "  </tbody>\n",
       "</table>\n",
       "</div>"
      ],
      "text/plain": [
       "                                               title  \\\n",
       "0  THIS is IT!  Popcorn ceilings and X-Pole's atr...   \n",
       "1                    Great pole, bought an extension   \n",
       "2                                    Easy to install   \n",
       "3                                          Love mine   \n",
       "4                                 Very disappointing   \n",
       "\n",
       "                                                body  \n",
       "0  Where to start?I've been wanting a home pole f...  \n",
       "1  Pole is wonderful, easy to put together. I’m a...  \n",
       "2  I had an issue with the delivery, but the sell...  \n",
       "3    Arrived quickly and easy to install. I love it!  \n",
       "4  This was a major disappointing purchase.  My p...  "
      ]
     },
     "execution_count": 10,
     "metadata": {},
     "output_type": "execute_result"
    }
   ],
   "source": [
    "# Create a dataframe from the text data and clean it \n",
    "import pandas as pd\n",
    "\n",
    "text_data = pd.DataFrame(review_data)\n",
    "text_data.dropna(inplace=True)\n",
    "text_data.head()"
   ]
  },
  {
   "cell_type": "code",
   "execution_count": 62,
   "id": "78a550ca-21d5-4ee4-90fd-a3dc2b00cf96",
   "metadata": {},
   "outputs": [
    {
     "name": "stdout",
     "output_type": "stream",
     "text": [
      "Where to start?I've been wanting a home pole for ages, and have had my eye on an X-Pole for years.  Now that it was time to finally pull the trigger, and I jumped into my research.  While XP is still easily the most popular, I was picking up on a LOT of recent customer service issues online (customers having their card info stolen, double charges, endless processing times), all without being able to easily reach a customer support agent.  Lots of these people stated that they wished they had gone with Lupit pole.Lupit really checked out and everything I read about the quality and process seemed really great-- and then I noticed they even had an Amazon store.  I placed my order on a Monday evening, and the pole of my dreams arrived that Friday!  The shipping was a little expensive, but it's a big and HEAVY box, so I get it.  They also delivered it to my upstairs apartment door; what a pleasant surprise!  Assembly was a breeze using one of their YouTube videos-- and this is with popcorn ceilings.  I absolutely LOVE this pole. Pole is wonderful, easy to put together. I’m a beginner, 100% recommend it but I will say the only down side to this purchase was DHL could not find my address.  Never had that problem before but I ended up having to pick up the pole an hour from my home since they said they needed additional information but there was no additional information to give.I told Customer Service about the inconvenience to pay $100+ for shipping and the item didn’t come to my front door but oh well.The wildest part is I even got stopped by the police on the way (first time getting stopped for anythingggg)! So maybe if I would not have had to go pick it up that would not have happened. Now the pole extension (purchased separately) was needed but you pay shipping per item which is odd since the extension was in the same box as the pole.. so in my opinion from my experience since I had to pick it up and hour away, overpriced shipping. Customer service was ok. I had an issue with the delivery, but the seller was super helpful in the resolution. I really appreciated the communication regarding my issues and everything worked out perfectly.Now the pole was easy to assemble, however, I recommend using a stud finder and a friend. Once we were able to locate the studs to ensure sturdiness it was a breeze. I recommend this for any beginner. The pole it self is a great thickness for grip and very sturdy. It does have some weight to it, so that’s why I recommend a friend to help for the installation especially if it’s your first time. I am content. Arrived quickly and easy to install. I love it! This was a major disappointing purchase.  My pole arrived almost 2 weeks late. The box came with zero instructions and had no trenches or extension rings.  It was supposed fit my 9 foot ceilings, and it does not.  I wouldn’t recommend wasting your money being that this is a very expensive pole that is useless. Solid Pole. Easy to assemble and install I have had this pole for all of one day and it was easy to install and feels very sturdy. Delivery was so much faster than I expected; less than a week. I was sad that the Lupit website seemed sold out of 45mm chrome poles in this style, but I'm glad I checked amazon, where the price+shipping is the same, but there was more availability! it's great so far, very easy to set up by myself. .                 Great pole! Definitely professional quality. Instructions to assemble for my ceiling height were very clear. Love love love! Sturdy, great quality, good instructions, well packaged, amazing delivery time. Easy to assemble, nice spinning pole. The item came missing the main part of the pole. I contacted seller hoping to get this resolved since I’m so excited to install it. It seems sturdy and well built. I can’t speak to any other quality until it’s up.@ Lupit Pole Seller, if you’re reading this, please kindly ship me part B of the pole! Thank you!!!! Make sure you really want the pole other wise it cost 2 much to mail it back from the USA or Puerto Rico I have been dancing on this pole almost daily since it arrived, installing and uninstalling it each time. I've used it on carpet and hard floors, in several locations throughout the house. Once you get the hang of pulling the sections apart and leveling the pole, it takes about 5-10 minutes to set up - and most of that time is for leveling.Regarding the quality of the pole itself - it's excellent. It's hefty and simply looks and feels high quality. I feel totally confident in my shoulder mounts, inversions, etc on this pole. I also have a nickel allergy, so I appreciate that Lupit makes a hypoallergenic chrome pole.The finish is grippy right out of the box (once it wiped down of course) and warms up fast, unlike some of the poles at my local studio which never seem to warm up for whatever reason. It has the perfect amount of whip to it but is rock-solid stable as long as you take the time to make sure it's level it during install. I reccomend to use a spirit level for this, NOT to eyeball it.This pole is unlocked to spin with an Allen wrench, which I actually prefer to poles that unlock by pulling on a collar from the floor - because it prevents you from putting the pole on spin while doing headstands or floor moves that have you grabbing near the base of the pole. The spin on the pole is smooth and not too loose but it gets nice and fast with momentum.The top cup has left no marks or damage on the ceiling. Very important, right? :)Other details I like: the smooth transition of the mask to the bottom of the pole, it's a really nice detail that you don't see on cheaper no-name poles and might be something to consider if you're grabbing down there frequently. I've danced on cheaper poles and unintentionally unscrewed the mask while dancing - and I can tell that's just not possible with this pole.Overall no complaints at all. Arrived quickly and in good condition and is a pleasure to dance on. I've had 3 poles now and this one, hands down,  is my favorite.  It took 10 minutes to set up,  no ceiling or floor damage, no drilling AND it arrived a little early. I was an exotic dancer for 10 years and worked all over the country- this pole is as sturdy  if not more so than poles in some clubs out there.  I do a lot of tricks and spins and it never feels unsafe. I've had others try it and it even supported 2 people totaling a little under 300 lbs. I'm very happy with it. Hi! I’ve danced for 2 years. This pole is very sturdy and very well put together. I wouldn’t suggest for first time user because it is higher and thick pole. It spins faster than normal poles. But if your wanting to invest your money this is the pole. I have enjoyed it and love the attachment for vaulted ceilings. This pole is great we installed as per instructions it doesn’t budge! I am a heavy plus size pole dancer 250 pounds and it’s sturrdy recommended big time !\n"
     ]
    }
   ],
   "source": [
    "# Need to get all the strings from each column, and then join them together into one large string\n",
    "title_list = text_data['title'].to_list()\n",
    "body_list = text_data['body'].to_list()\n",
    "\n",
    "# Transforming the data into a text object\n",
    "\n",
    "# lines = title_list + body_list\n",
    "text = \" \".join(x.strip() for x in body_list)\n",
    "text = re.sub('The media could not be loaded', '', text)\n",
    "\n",
    "# Remove all whitespace using re.sub()\n",
    "pattern = r'[\\t\\n]+'  # '\\t' matches tabs and '\\n' matches newlines, + means more than one\n",
    "text = re.sub(pattern, '', text)\n",
    "\n",
    "emoji = re.compile(\"[\"\n",
    "        u\"\\U0001F600-\\U0001F64F\"  # emoticons\n",
    "        u\"\\U0001F300-\\U0001F5FF\"  # symbols & pictographs\n",
    "        u\"\\U0001F680-\\U0001F6FF\"  # transport & map symbols\n",
    "        u\"\\U0001F1E0-\\U0001F1FF\"  # flags (iOS)\n",
    "        u\"\\U00002500-\\U00002BEF\"  # chinese char\n",
    "        u\"\\U00002702-\\U000027B0\"\n",
    "        u\"\\U00002702-\\U000027B0\"\n",
    "        u\"\\U000024C2-\\U0001F251\"\n",
    "        u\"\\U0001f926-\\U0001f937\"\n",
    "        u\"\\U00010000-\\U0010ffff\"\n",
    "        u\"\\u2640-\\u2642\" \n",
    "        u\"\\u2600-\\u2B55\"\n",
    "        u\"\\u200d\"\n",
    "        u\"\\u23cf\"\n",
    "        u\"\\u23e9\"\n",
    "        u\"\\u231a\"\n",
    "        u\"\\ufe0f\"  # dingbats\n",
    "        u\"\\u3030\"\n",
    "                      \"]+\", re.UNICODE)\n",
    "text = re.sub(emoji, '', text) # removing all emojis"
   ]
  },
  {
   "cell_type": "code",
   "execution_count": 69,
   "id": "995646cf-438e-4a37-abd7-584e2f984780",
   "metadata": {},
   "outputs": [],
   "source": [
    "# Pre-processing the data\n",
    "import string\n",
    "import nltk\n",
    "from nltk.corpus import stopwords\n",
    "from nltk.tokenize import word_tokenize\n",
    "\n",
    "# Lowercasing and removing punctuation\n",
    "text = \"\".join(i for i in list(text) if i not in string.punctuation).lower()\n",
    "\n",
    "# Tokenizing the data\n",
    "text_tokens = word_tokenize(text)\n",
    "\n",
    "# Removing the stopwords\n",
    "stopwords = set(stopwords.words('english'))\n",
    "text_words = [word for word in text_tokens if word not in stopwords]"
   ]
  },
  {
   "cell_type": "code",
   "execution_count": null,
   "id": "2c9241cc-ac01-4810-9796-346591683371",
   "metadata": {},
   "outputs": [],
   "source": [
    "# Compute the frequency of each word and combine common adjacent phrases "
   ]
  },
  {
   "cell_type": "code",
   "execution_count": null,
   "id": "3a27f90c-05c1-4c4f-bef3-a836a09c6ad2",
   "metadata": {},
   "outputs": [],
   "source": []
  }
 ],
 "metadata": {
  "kernelspec": {
   "display_name": "Python 3 (ipykernel)",
   "language": "python",
   "name": "python3"
  },
  "language_info": {
   "codemirror_mode": {
    "name": "ipython",
    "version": 3
   },
   "file_extension": ".py",
   "mimetype": "text/x-python",
   "name": "python",
   "nbconvert_exporter": "python",
   "pygments_lexer": "ipython3",
   "version": "3.10.9"
  }
 },
 "nbformat": 4,
 "nbformat_minor": 5
}
