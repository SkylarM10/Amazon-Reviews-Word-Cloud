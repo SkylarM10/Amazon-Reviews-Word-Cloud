{
 "cells": [
  {
   "cell_type": "code",
   "execution_count": null,
   "id": "1d1b1443-5329-4aa0-97d3-de20a85b807e",
   "metadata": {},
   "outputs": [],
   "source": [
    "# webscrape the reviews of an amazon product when given a url as input\n",
    "# Take those reviews and covnert it into a text object\n",
    "# Create a word cloud from that text object"
   ]
  },
  {
   "cell_type": "code",
   "execution_count": 82,
   "id": "6ff6677d-12b7-4974-9930-c994640f16ac",
   "metadata": {},
   "outputs": [
    {
     "name": "stdin",
     "output_type": "stream",
     "text": [
      "Enter the URL:  https://www.amazon.com/LUPIT-POLE-Dance-Pole-Classic/dp/B082B98S17/ref=sr_1_8?crid=2ODBG4PH6QMFS&keywords=pole+pole+dancing&qid=1684697154&sprefix=pole+pole+dancing%2Caps%2C135&sr=8-8\n"
     ]
    }
   ],
   "source": [
    "# Take user input for the url and get the review list url\n",
    "import re\n",
    "\n",
    "#Getting user input\n",
    "url = input(\"Enter the URL: \")\n",
    "\n",
    "# Splitting the url and creating the link to the reviews list\n",
    "url_string = re.split('/dp/', url)\n",
    "product = url_string[0]\n",
    "product_id = re.split(r'\\?', url_string[1])[0] #Note that we can't do '?' since ? is an expression in re\n",
    "review_url = product + '/product-reviews/' + product_id + '/ref=cm_cr_dp_d_show_all_btm?ie=UTF8&reviewerType=all_reviews'"
   ]
  },
  {
   "cell_type": "code",
   "execution_count": 83,
   "id": "0606d77d-15da-4ea3-b65e-e5e97ebd62d3",
   "metadata": {},
   "outputs": [
    {
     "name": "stdout",
     "output_type": "stream",
     "text": [
      "{'title': \"THIS is IT!  Popcorn ceilings and X-Pole's atrocious wait times can't even stand in your way now\", 'body': \"Where to start?I've been wanting a home pole for ages, and have had my eye on an X-Pole for years.  Now that it was time to finally pull the trigger, and I jumped into my research.  While XP is still easily the most popular, I was picking up on a LOT of recent customer service issues online (customers having their card info stolen, double charges, endless processing times), all without being able to easily reach a customer support agent.  Lots of these people stated that they wished they had gone with Lupit pole.Lupit really checked out and everything I read about the quality and process seemed really great-- and then I noticed they even had an Amazon store.  I placed my order on a Monday evening, and the pole of my dreams arrived that Friday!  The shipping was a little expensive, but it's a big and HEAVY box, so I get it.  They also delivered it to my upstairs apartment door; what a pleasant surprise!  Assembly was a breeze using one of their YouTube videos-- and this is with popcorn ceilings.  I absolutely LOVE this pole.\"}\n",
      "{'title': 'Great pole, bought an extension', 'body': 'Pole is wonderful, easy to put together. I’m a beginner, 100% recommend it but I will say the only down side to this purchase was DHL could not find my address.  Never had that problem before but I ended up having to pick up the pole an hour from my home since they said they needed additional information but there was no additional information to give.I told Customer Service about the inconvenience to pay $100+ for shipping and the item didn’t come to my front door but oh well.The wildest part is I even got stopped by the police on the way (first time getting stopped for anythingggg)! So maybe if I would not have had to go pick it up that would not have happened. 😂Now the pole extension (purchased separately) was needed but you pay shipping per item which is odd since the extension was in the same box as the pole.. so in my opinion from my experience since I had to pick it up and hour away, overpriced shipping. Customer service was ok.'}\n",
      "{'title': 'Easy to install', 'body': 'I had an issue with the delivery, but the seller was super helpful in the resolution. I really appreciated the communication regarding my issues and everything worked out perfectly.Now the pole was easy to assemble, however, I recommend using a stud finder and a friend. Once we were able to locate the studs to ensure sturdiness it was a breeze. I recommend this for any beginner. The pole it self is a great thickness for grip and very sturdy. It does have some weight to it, so that’s why I recommend a friend to help for the installation especially if it’s your first time. I am content.'}\n",
      "{'title': 'Love mine', 'body': 'Arrived quickly and easy to install. I love it!'}\n",
      "{'title': 'Very disappointing', 'body': 'This was a major disappointing purchase.  My pole arrived almost 2 weeks late. The box came with zero instructions and had no trenches or extension rings.  It was supposed fit my 9 foot ceilings, and it does not.  I wouldn’t recommend wasting your money being that this is a very expensive pole that is useless.'}\n",
      "{'title': 'Solid pole! Sturdy and easy to assemble', 'body': 'Solid Pole. Easy to assemble and install'}\n",
      "{'title': 'Easy to install', 'body': 'I have had this pole for all of one day and it was easy to install and feels very sturdy. Delivery was so much faster than I expected; less than a week.'}\n",
      "{'title': 'Perfect as Expected!', 'body': \"I was sad that the Lupit website seemed sold out of 45mm chrome poles in this style, but I'm glad I checked amazon, where the price+shipping is the same, but there was more availability! it's great so far, very easy to set up by myself.\"}\n",
      "{'title': 'Great pole!', 'body': 'The media could not be loaded.\\n                \\n\\n\\n\\n\\xa0Great pole! Definitely professional quality. Instructions to assemble for my ceiling height were very clear. Love love love!'}\n",
      "{'title': 'Amazing for At Home Pole Studio', 'body': 'Sturdy, great quality, good instructions, well packaged, amazing delivery time.'}\n",
      "{'title': 'Wonderful!', 'body': 'Easy to assemble, nice spinning pole.'}\n",
      "{'title': 'Came missing parts', 'body': 'The item came missing the main part of the pole. I contacted seller hoping to get this resolved since I’m so excited to install it. It seems sturdy and well built. I can’t speak to any other quality until it’s up.@ Lupit Pole Seller, if you’re reading this, please kindly ship me part B of the pole! Thank you!!!!'}\n",
      "{'title': 'Is not stable', 'body': 'Make sure you really want the pole other wise it cost 2 much to mail it back from the USA or Puerto Rico'}\n",
      "{'title': 'Great pole, excellent finish', 'body': \"I have been dancing on this pole almost daily since it arrived, installing and uninstalling it each time. I've used it on carpet and hard floors, in several locations throughout the house. Once you get the hang of pulling the sections apart and leveling the pole, it takes about 5-10 minutes to set up - and most of that time is for leveling.Regarding the quality of the pole itself - it's excellent. It's hefty and simply looks and feels high quality. I feel totally confident in my shoulder mounts, inversions, etc on this pole. I also have a nickel allergy, so I appreciate that Lupit makes a hypoallergenic chrome pole.The finish is grippy right out of the box (once it wiped down of course) and warms up fast, unlike some of the poles at my local studio which never seem to warm up for whatever reason. It has the perfect amount of whip to it but is rock-solid stable as long as you take the time to make sure it's level it during install. I reccomend to use a spirit level for this, NOT to eyeball it.This pole is unlocked to spin with an Allen wrench, which I actually prefer to poles that unlock by pulling on a collar from the floor - because it prevents you from putting the pole on spin while doing headstands or floor moves that have you grabbing near the base of the pole. The spin on the pole is smooth and not too loose but it gets nice and fast with momentum.The top cup has left no marks or damage on the ceiling. Very important, right? :)Other details I like: the smooth transition of the mask to the bottom of the pole, it's a really nice detail that you don't see on cheaper no-name poles and might be something to consider if you're grabbing down there frequently. I've danced on cheaper poles and unintentionally unscrewed the mask while dancing - and I can tell that's just not possible with this pole.Overall no complaints at all. Arrived quickly and in good condition and is a pleasure to dance on.\"}\n",
      "{'title': 'Easy and no tools necessary!', 'body': \"I've had 3 poles now and this one, hands down,  is my favorite.  It took 10 minutes to set up,  no ceiling or floor damage, no drilling AND it arrived a little early. I was an exotic dancer for 10 years and worked all over the country- this pole is as sturdy  if not more so than poles in some clubs out there.  I do a lot of tricks and spins and it never feels unsafe. I've had others try it and it even supported 2 people totaling a little under 300 lbs. I'm very happy with it.\"}\n",
      "{'title': 'Helpful review', 'body': 'Hi! I’ve danced for 2 years. This pole is very sturdy and very well put together. I wouldn’t suggest for first time user because it is higher and thick pole. It spins faster than normal poles. But if your wanting to invest your money this is the pole. I have enjoyed it and love the attachment for vaulted ceilings.'}\n",
      "{'title': '', 'body': 'This pole is great we installed as per instructions it doesn’t budge! I am a heavy plus size pole dancer 250 pounds and it’s sturrdy recommended big time !'}\n",
      "Done.\n"
     ]
    }
   ],
   "source": [
    "from requests_html import AsyncHTMLSession\n",
    "from bs4 import BeautifulSoup\n",
    "import pandas as pd\n",
    "\n",
    "session = AsyncHTMLSession()\n",
    "review_data = []\n",
    "\n",
    "while review_url:\n",
    "    r = await session.get(review_url)\n",
    "    await r.html.arender(sleep=5)\n",
    "    soup = BeautifulSoup(r.html.html, 'lxml')\n",
    "    reviews = soup.find_all(\"div\", {\"data-hook\": \"review\"})\n",
    "    for x in reviews:\n",
    "            if x:\n",
    "                title_element = x.find('a', {'data-hook': 'review-title'})\n",
    "                body_element = x.find('span', {'data-hook': 'review-body'})\n",
    "\n",
    "                title = title_element.text.strip() if title_element else ''\n",
    "                body = body_element.text.strip() if body_element else ''\n",
    "\n",
    "                review = {\n",
    "                    'title': title,\n",
    "                    'body': body\n",
    "                }\n",
    "                # print(review)\n",
    "                review_data.append(review)\n",
    "                #print(review)\n",
    "    next_page_element = soup.find(class_=\"a-last\").find('a')\n",
    "\n",
    "    if next_page_element is not None:\n",
    "        next_page = 'https://www.amazon.com/' + next_page_element['href']\n",
    "    else:\n",
    "        next_page = None\n",
    "    review_url = next_page\n",
    "print(\"Done.\")"
   ]
  },
  {
   "cell_type": "code",
   "execution_count": 164,
   "id": "cae5ce6e-6637-49b0-94eb-506aa0ecaa6a",
   "metadata": {},
   "outputs": [
    {
     "data": {
      "text/html": [
       "<div>\n",
       "<style scoped>\n",
       "    .dataframe tbody tr th:only-of-type {\n",
       "        vertical-align: middle;\n",
       "    }\n",
       "\n",
       "    .dataframe tbody tr th {\n",
       "        vertical-align: top;\n",
       "    }\n",
       "\n",
       "    .dataframe thead th {\n",
       "        text-align: right;\n",
       "    }\n",
       "</style>\n",
       "<table border=\"1\" class=\"dataframe\">\n",
       "  <thead>\n",
       "    <tr style=\"text-align: right;\">\n",
       "      <th></th>\n",
       "      <th>title</th>\n",
       "      <th>body</th>\n",
       "    </tr>\n",
       "  </thead>\n",
       "  <tbody>\n",
       "    <tr>\n",
       "      <th>0</th>\n",
       "      <td>THIS is IT!  Popcorn ceilings and X-Pole's atr...</td>\n",
       "      <td>Where to start?I've been wanting a home pole f...</td>\n",
       "    </tr>\n",
       "    <tr>\n",
       "      <th>1</th>\n",
       "      <td>Great pole, bought an extension</td>\n",
       "      <td>Pole is wonderful, easy to put together. I’m a...</td>\n",
       "    </tr>\n",
       "    <tr>\n",
       "      <th>2</th>\n",
       "      <td>Easy to install</td>\n",
       "      <td>I had an issue with the delivery, but the sell...</td>\n",
       "    </tr>\n",
       "    <tr>\n",
       "      <th>3</th>\n",
       "      <td>Love mine</td>\n",
       "      <td>Arrived quickly and easy to install. I love it!</td>\n",
       "    </tr>\n",
       "    <tr>\n",
       "      <th>4</th>\n",
       "      <td>Very disappointing</td>\n",
       "      <td>This was a major disappointing purchase.  My p...</td>\n",
       "    </tr>\n",
       "  </tbody>\n",
       "</table>\n",
       "</div>"
      ],
      "text/plain": [
       "                                               title  \\\n",
       "0  THIS is IT!  Popcorn ceilings and X-Pole's atr...   \n",
       "1                    Great pole, bought an extension   \n",
       "2                                    Easy to install   \n",
       "3                                          Love mine   \n",
       "4                                 Very disappointing   \n",
       "\n",
       "                                                body  \n",
       "0  Where to start?I've been wanting a home pole f...  \n",
       "1  Pole is wonderful, easy to put together. I’m a...  \n",
       "2  I had an issue with the delivery, but the sell...  \n",
       "3    Arrived quickly and easy to install. I love it!  \n",
       "4  This was a major disappointing purchase.  My p...  "
      ]
     },
     "execution_count": 164,
     "metadata": {},
     "output_type": "execute_result"
    }
   ],
   "source": [
    "# Create a dataframe from the text data and clean it \n",
    "import pandas as pd\n",
    "\n",
    "text_data = pd.DataFrame(review_data)\n",
    "text_data.dropna(inplace=True)\n",
    "text_data.head()"
   ]
  },
  {
   "cell_type": "code",
   "execution_count": 165,
   "id": "78a550ca-21d5-4ee4-90fd-a3dc2b00cf96",
   "metadata": {},
   "outputs": [],
   "source": [
    "# Need to get all the strings from each column, and then join them together into one large string\n",
    "#title_list = text_data['title'].to_list()\n",
    "body_list = text_data['body'].to_list()\n",
    "\n",
    "# Transforming the data into a text object\n",
    "\n",
    "# lines = title_list + body_list\n",
    "text = \" \".join(x.strip() for x in body_list)\n",
    "text = re.sub('The media could not be loaded', '', text)\n",
    "\n",
    "# Remove all whitespace using re.sub()\n",
    "pattern = r'[\\t\\n]+'  # '\\t' matches tabs and '\\n' matches newlines, + means more than one\n",
    "text = re.sub(pattern, '', text)\n",
    "\n",
    "emoji = re.compile(\"[\"\n",
    "        u\"\\U0001F600-\\U0001F64F\"  # emoticons\n",
    "        u\"\\U0001F300-\\U0001F5FF\"  # symbols & pictographs\n",
    "        u\"\\U0001F680-\\U0001F6FF\"  # transport & map symbols\n",
    "        u\"\\U0001F1E0-\\U0001F1FF\"  # flags (iOS)\n",
    "        u\"\\U00002500-\\U00002BEF\"  # chinese char\n",
    "        u\"\\U00002702-\\U000027B0\"\n",
    "        u\"\\U00002702-\\U000027B0\"\n",
    "        u\"\\U000024C2-\\U0001F251\"\n",
    "        u\"\\U0001f926-\\U0001f937\"\n",
    "        u\"\\U00010000-\\U0010ffff\"\n",
    "        u\"\\u2640-\\u2642\" \n",
    "        u\"\\u2600-\\u2B55\"\n",
    "        u\"\\u200d\"\n",
    "        u\"\\u23cf\"\n",
    "        u\"\\u23e9\"\n",
    "        u\"\\u231a\"\n",
    "        u\"\\ufe0f\"  # dingbats\n",
    "        u\"\\u3030\"\n",
    "                      \"]+\", re.UNICODE)\n",
    "text = re.sub(emoji, '', text) # removing all emojis"
   ]
  },
  {
   "cell_type": "code",
   "execution_count": 167,
   "id": "995646cf-438e-4a37-abd7-584e2f984780",
   "metadata": {},
   "outputs": [
    {
     "ename": "SyntaxError",
     "evalue": "invalid syntax (3421346388.py, line 10)",
     "output_type": "error",
     "traceback": [
      "\u001b[1;36m  Cell \u001b[1;32mIn[167], line 10\u001b[1;36m\u001b[0m\n\u001b[1;33m    text = \" \".join[contractions.fix(word) for word in text.split()]\u001b[0m\n\u001b[1;37m                                           ^\u001b[0m\n\u001b[1;31mSyntaxError\u001b[0m\u001b[1;31m:\u001b[0m invalid syntax\n"
     ]
    }
   ],
   "source": [
    "# Pre-processing the data\n",
    "import string\n",
    "import contractions\n",
    "import nltk\n",
    "import nltk.corpus\n",
    "from nltk.corpus import stopwords\n",
    "from nltk.tokenize import word_tokenize\n",
    "from nltk.stem import WordNetLemmatizer\n",
    "\n",
    "text = \" \".join[contractions.fix(word) for word in text.split()]\n",
    "print(text)\n",
    "# Lowercasing and removing punctuation\n",
    "text = \"\".join(i for i in list(text) if i not in string.punctuation).lower()\n",
    "\n",
    "# Tokenizing the data\n",
    "text_tokens = word_tokenize(text)\n",
    "\n",
    "# Removing the stopwords\n",
    "stopwords = set(stopwords.words('english'))\n",
    "text_words = [word for word in text_tokens if word not in stopwords]\n",
    "print(text_words)\n",
    "\n",
    "# Normalize the text\n",
    "wordnet_lemmatizer = WordNetLemmatizer()\n",
    "normal_words = []\n",
    "for w in text_words:\n",
    "    word1 = wordnet_lemmatizer.lemmatize(w, pos = \"n\")\n",
    "    word2 = wordnet_lemmatizer.lemmatize(word1, pos = \"v\")\n",
    "    word3 = wordnet_lemmatizer.lemmatize(word2, pos = (\"a\"))\n",
    "    normal_words.append(word3)"
   ]
  },
  {
   "cell_type": "code",
   "execution_count": 113,
   "id": "2c9241cc-ac01-4810-9796-346591683371",
   "metadata": {},
   "outputs": [
    {
     "name": "stdout",
     "output_type": "stream",
     "text": [
      "{'startive': 1, 'want': 3, 'home': 2, 'pole': 42, 'age': 1, 'eye': 1, 'xpole': 1, 'year': 3, 'time': 10, 'finally': 1, 'pull': 3, 'trigger': 1, 'jump': 1, 'research': 1, 'xp': 1, 'still': 1, 'easily': 2, 'popular': 1, 'pick': 4, 'lot': 3, 'recent': 1, 'customer': 5, 'service': 3, 'issue': 3, 'online': 1, 'card': 1, 'info': 1, 'steal': 1, 'double': 1, 'charge': 1, 'endless': 1, 'process': 2, 'without': 1, 'able': 2, 'reach': 1, 'support': 2, 'agent': 1, 'people': 2, 'state': 1, 'wish': 1, 'go': 2, 'lupit': 4, 'polelupit': 1, 'really': 5, 'check': 2, 'everything': 2, 'read': 2, 'quality': 6, 'seem': 4, 'great': 6, 'notice': 1, 'even': 4, 'amazon': 2, 'store': 1, 'place': 1, 'order': 1, 'monday': 1, 'dream': 1, 'arrive': 6, 'friday': 1, 'ship': 5, 'little': 3, 'expensive': 2, 'big': 2, 'heavy': 2, 'box': 4, 'get': 6, 'also': 2, 'deliver': 1, 'upstairs': 1, 'apartment': 1, 'door': 2, 'pleasant': 1, 'surprise': 1, 'assembly': 1, 'breeze': 2, 'use': 4, 'one': 3, 'youtube': 1, 'video': 1, 'popcorn': 1, 'ceiling': 6, 'absolutely': 1, 'love': 6, 'wonderful': 1, 'easy': 7, 'put': 3, 'together': 2, '’': 13, 'beginner': 2, '100': 2, 'recommend': 6, 'say': 2, 'side': 1, 'purchase': 3, 'dhl': 1, 'could': 1, 'find': 1, 'address': 1, 'never': 3, 'problem': 1, 'end': 1, 'hour': 2, 'since': 5, 'need': 2, 'additional': 2, 'information': 2, 'givei': 1, 'tell': 2, 'inconvenience': 1, 'pay': 2, 'item': 3, 'come': 3, 'front': 1, 'oh': 1, 'wellthe': 1, 'wild': 1, 'part': 3, 'stop': 2, 'police': 1, 'way': 1, 'first': 3, 'anythingggg': 1, 'maybe': 1, 'would': 2, 'happen': 1, 'extension': 3, 'separately': 1, 'per': 2, 'odd': 1, 'opinion': 1, 'experience': 1, 'away': 1, 'overprice': 1, 'ok': 1, 'delivery': 3, 'seller': 3, 'super': 1, 'helpful': 1, 'resolution': 1, 'appreciate': 2, 'communication': 1, 'regard': 1, 'work': 2, 'perfectlynow': 1, 'assemble': 4, 'however': 1, 'stud': 2, 'finder': 1, 'friend': 2, 'locate': 1, 'ensure': 1, 'sturdiness': 1, 'self': 1, 'thickness': 1, 'grip': 1, 'sturdy': 6, 'weight': 1, 'help': 1, 'installation': 1, 'especially': 1, 'content': 1, 'quickly': 2, 'install': 5, 'major': 1, 'disappoint': 1, 'almost': 2, '2': 4, 'week': 2, 'late': 1, 'zero': 1, 'instruction': 4, 'trench': 1, 'ring': 1, 'suppose': 1, 'fit': 1, '9': 1, 'foot': 1, 'waste': 1, 'money': 2, 'useless': 1, 'solid': 1, 'day': 1, 'feel': 4, 'much': 2, 'fast': 4, 'expect': 1, 'le': 1, 'sad': 1, 'website': 1, 'sell': 1, '45mm': 1, 'chrome': 2, 'style': 1, 'im': 2, 'glad': 1, 'priceshipping': 1, 'availability': 1, 'far': 1, 'set': 3, 'definitely': 1, 'professional': 1, 'height': 1, 'clear': 1, 'good': 2, 'well': 3, 'package': 1, 'amaze': 1, 'nice': 3, 'spin': 6, 'miss': 1, 'main': 1, 'contact': 1, 'hop': 1, 'resolve': 1, 'excite': 1, 'build': 1, 'speak': 1, 'please': 1, 'kindly': 1, 'b': 1, 'thank': 1, 'make': 3, 'sure': 2, 'wise': 1, 'cost': 1, 'mail': 1, 'back': 1, 'usa': 1, 'puerto': 1, 'rico': 1, 'dance': 5, 'daily': 1, 'instal': 2, 'uninstalling': 1, 'ive': 4, 'carpet': 1, 'hard': 1, 'floor': 4, 'several': 1, 'location': 1, 'throughout': 1, 'house': 1, 'hang': 1, 'section': 1, 'apart': 1, 'level': 3, 'take': 3, '510': 1, 'minute': 2, 'levelingregarding': 1, 'excellent': 1, 'hefty': 1, 'simply': 1, 'look': 1, 'high': 2, 'totally': 1, 'confident': 1, 'shoulder': 1, 'mount': 1, 'inversion': 1, 'etc': 1, 'nickel': 1, 'allergy': 1, 'hypoallergenic': 1, 'polethe': 1, 'finish': 1, 'grippy': 1, 'right': 2, 'wipe': 1, 'course': 1, 'warm': 2, 'unlike': 1, 'local': 1, 'studio': 1, 'whatever': 1, 'reason': 1, 'perfect': 1, 'amount': 1, 'whip': 1, 'rocksolid': 1, 'stable': 1, 'long': 1, 'reccomend': 1, 'spirit': 1, 'eyeball': 1, 'itthis': 1, 'unlock': 2, 'allen': 1, 'wrench': 1, 'actually': 1, 'prefer': 1, 'collar': 1, 'prevent': 1, 'headstand': 1, 'move': 1, 'grab': 2, 'near': 1, 'base': 1, 'smooth': 2, 'loose': 1, 'momentumthe': 1, 'top': 1, 'cup': 1, 'leave': 1, 'mark': 1, 'damage': 2, 'important': 1, 'detail': 2, 'like': 1, 'transition': 1, 'mask': 2, 'bottom': 1, 'dont': 1, 'see': 1, 'cheap': 2, 'noname': 1, 'might': 1, 'something': 1, 'consider': 1, 'youre': 1, 'frequently': 1, 'unintentionally': 1, 'unscrew': 1, 'thats': 1, 'possible': 1, 'poleoverall': 1, 'complaint': 1, 'condition': 1, 'pleasure': 1, '3': 1, 'hand': 1, 'favorite': 1, '10': 2, 'drill': 1, 'early': 1, 'exotic': 1, 'dancer': 2, 'country': 1, 'club': 1, 'trick': 1, 'unsafe': 1, 'others': 1, 'try': 1, 'total': 1, '300': 1, 'lb': 1, 'happy': 1, 'hi': 1, 'suggest': 1, 'user': 1, 'thick': 1, 'normal': 1, 'invest': 1, 'enjoy': 1, 'attachment': 1, 'vault': 1, 'budge': 1, 'plus': 1, 'size': 1, '250': 1, 'pound': 1, 'sturrdy': 1}\n"
     ]
    }
   ],
   "source": [
    "# Compute the frequency of each word and combine common adjacent phrases\n",
    "import collections \n",
    "\n",
    "# Calculating the frequency of each pair of words\n",
    "# zip(list, list) combines the two lists into a sequence of tuples, where the first item of each list is paired into a tuple \n",
    "adj_words = zip(normal_words, normal_words[1:]) \n",
    "adj_words_freq = collections.Counter(adj_words)\n",
    "\n",
    "# Getting the max frequency of the pairs \n",
    "max_freq = max(adj_words_freq.values())\n",
    "\n",
    "# Craeting a dictionary of those most frequent pairs \n",
    "pairs = {adj: count for adj, count in adj_words_freq.items() if count == max_freq}\n",
    "single_words = dict(collections.Counter(normal_words))\n",
    "print(single_words)\n",
    "\n",
    "# Combining into a dictionary\n",
    "freq_list = {}\n",
    "freq_list.update(pairs)\n",
    "freq_list.update(single_words)"
   ]
  },
  {
   "cell_type": "code",
   "execution_count": null,
   "id": "3a27f90c-05c1-4c4f-bef3-a836a09c6ad2",
   "metadata": {},
   "outputs": [],
   "source": []
  }
 ],
 "metadata": {
  "kernelspec": {
   "display_name": "Python 3 (ipykernel)",
   "language": "python",
   "name": "python3"
  },
  "language_info": {
   "codemirror_mode": {
    "name": "ipython",
    "version": 3
   },
   "file_extension": ".py",
   "mimetype": "text/x-python",
   "name": "python",
   "nbconvert_exporter": "python",
   "pygments_lexer": "ipython3",
   "version": "3.10.9"
  }
 },
 "nbformat": 4,
 "nbformat_minor": 5
}
